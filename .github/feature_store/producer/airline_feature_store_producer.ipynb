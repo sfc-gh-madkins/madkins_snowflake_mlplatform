{
 "metadata": {
  "kernelspec": {
   "display_name": "Python 3 (ipykernel)",
   "language": "python",
   "name": "python3"
  },
  "language_info": {
   "codemirror_mode": {
    "name": "ipython",
    "version": 3
   },
   "file_extension": ".py",
   "mimetype": "text/x-python",
   "name": "python",
   "nbconvert_exporter": "python",
   "pygments_lexer": "ipython3",
   "version": "3.11.7"
  }
 },
 "nbformat_minor": 5,
 "nbformat": 4,
 "cells": [
  {
   "cell_type": "code",
   "id": "3c77ccf2-5f55-4445-a7c9-612e36742250",
   "metadata": {
    "language": "python",
    "name": "cell3"
   },
   "outputs": [],
   "source": "!pip install -q snowflake-ml-python==1.5.0",
   "execution_count": null
  },
  {
   "cell_type": "code",
   "execution_count": 1,
   "id": "5065ec97-f54f-499b-9997-5dc46f899e95",
   "metadata": {
    "name": "cell1",
    "language": "python",
    "collapsed": false,
    "codeCollapsed": false
   },
   "outputs": [
    {
     "name": "stderr",
     "output_type": "stream",
     "text": [
      "SnowflakeLoginOptions() is in private preview since 0.2.0. Do not use it in production. \n"
     ]
    }
   ],
   "source": "from snowflake.ml.feature_store import CreationMode, FeatureStore, FeatureView, Entity\n\nfrom snowflake.snowpark import Window\nfrom snowflake.snowpark.context import get_active_session\nfrom snowflake.snowpark.functions import *\n\nsession = get_active_session()\n\nfs = FeatureStore(\n    session=session, \n    database=\"AIRLINE_FEATURE_STORE\",\n    name=\"FEATURE_STORE\",\n    default_warehouse=session.get_current_warehouse(),\n    creation_mode=CreationMode.CREATE_IF_NOT_EXIST,\n)"
  },
  {
   "cell_type": "markdown",
   "id": "03763402-40c3-4296-bd60-9f0aa83e1b93",
   "metadata": {
    "name": "cell6",
    "collapsed": false
   },
   "source": [
    "## Feature View Computation & Registration: Airport Weather"
   ]
  },
  {
   "cell_type": "code",
   "execution_count": 3,
   "id": "1dff15fe-8529-4f98-8abc-ffaf6ad8553d",
   "metadata": {
    "name": "cell7",
    "language": "python",
    "codeCollapsed": false
   },
   "outputs": [
    {
     "data": {
      "text/html": [
       "<div>\n",
       "<style scoped>\n",
       "    .dataframe tbody tr th:only-of-type {\n",
       "        vertical-align: middle;\n",
       "    }\n",
       "\n",
       "    .dataframe tbody tr th {\n",
       "        vertical-align: top;\n",
       "    }\n",
       "\n",
       "    .dataframe thead th {\n",
       "        text-align: right;\n",
       "    }\n",
       "</style>\n",
       "<table border=\"1\" class=\"dataframe\">\n",
       "  <thead>\n",
       "    <tr style=\"text-align: right;\">\n",
       "      <th></th>\n",
       "      <th>DATETIME_UTC</th>\n",
       "      <th>AIRPORT_ZIP_CODE</th>\n",
       "      <th>RAIN_MM_H</th>\n",
       "    </tr>\n",
       "  </thead>\n",
       "  <tbody>\n",
       "    <tr>\n",
       "      <th>0</th>\n",
       "      <td>2024-03-11 02:40:00</td>\n",
       "      <td>33126</td>\n",
       "      <td>0.0</td>\n",
       "    </tr>\n",
       "    <tr>\n",
       "      <th>1</th>\n",
       "      <td>2024-03-11 02:41:00</td>\n",
       "      <td>33126</td>\n",
       "      <td>0.0</td>\n",
       "    </tr>\n",
       "    <tr>\n",
       "      <th>2</th>\n",
       "      <td>2024-03-11 02:42:00</td>\n",
       "      <td>33126</td>\n",
       "      <td>0.0</td>\n",
       "    </tr>\n",
       "    <tr>\n",
       "      <th>3</th>\n",
       "      <td>2024-03-11 02:43:00</td>\n",
       "      <td>33126</td>\n",
       "      <td>0.0</td>\n",
       "    </tr>\n",
       "    <tr>\n",
       "      <th>4</th>\n",
       "      <td>2024-03-11 02:44:00</td>\n",
       "      <td>33126</td>\n",
       "      <td>0.0</td>\n",
       "    </tr>\n",
       "  </tbody>\n",
       "</table>\n",
       "</div>"
      ],
      "text/plain": [
       "         DATETIME_UTC AIRPORT_ZIP_CODE  RAIN_MM_H\n",
       "0 2024-03-11 02:40:00            33126        0.0\n",
       "1 2024-03-11 02:41:00            33126        0.0\n",
       "2 2024-03-11 02:42:00            33126        0.0\n",
       "3 2024-03-11 02:43:00            33126        0.0\n",
       "4 2024-03-11 02:44:00            33126        0.0"
      ]
     },
     "execution_count": 3,
     "metadata": {},
     "output_type": "execute_result"
    }
   ],
   "source": "raw_df = session.table(\"AIRLINE_FEATURE_STORE.FEATURE_STORE.AIRPORT_WEATHER_STATION\")\nraw_df.to_pandas().head(5)"
  },
  {
   "cell_type": "code",
   "execution_count": 4,
   "id": "d2a8f4a1-7217-4b89-bdf4-489045e4aa0d",
   "metadata": {
    "name": "cell8",
    "language": "python",
    "codeCollapsed": false
   },
   "outputs": [
    {
     "data": {
      "text/plain": [
       "0.4130330538672536"
      ]
     },
     "execution_count": 4,
     "metadata": {},
     "output_type": "execute_result"
    }
   ],
   "source": [
    "window = Window.partition_by(\"AIRPORT_ZIP_CODE\").order_by(\"DATETIME_UTC\").rows_between(-29, Window.CURRENT_ROW)\n",
    "window2 = Window.partition_by(\"AIRPORT_ZIP_CODE\").order_by(\"DATETIME_UTC\").rows_between(-59, Window.CURRENT_ROW)\n",
    "transformed_df = raw_df.select(\n",
    "    \"DATETIME_UTC\",\n",
    "    \"AIRPORT_ZIP_CODE\",\n",
    "    avg(\"RAIN_MM_H\").over(window).alias(\"AVG30MIN_RAIN_MM_H\"),\n",
    "    avg(\"RAIN_MM_H\").over(window2).alias(\"AVG60MIN_RAIN_MM_H\")\n",
    ")\n",
    "\n",
    "transformed_df.to_pandas()['AVG30MIN_RAIN_MM_H'].mean()"
   ]
  },
  {
   "cell_type": "code",
   "execution_count": 5,
   "id": "7545191f-291a-427d-943c-8e03c455accf",
   "metadata": {
    "name": "cell9",
    "language": "python",
    "codeCollapsed": false
   },
   "outputs": [
    {
     "name": "stdout",
     "output_type": "stream",
     "text": [
      "------------------------------------------------------------------------------------------\n",
      "|\"DATETIME_UTC\"       |\"AIRPORT_ZIP_CODE\"  |\"AVG30MIN_RAIN_MM_H\"  |\"AVG60MIN_RAIN_MM_H\"  |\n",
      "------------------------------------------------------------------------------------------\n",
      "|2024-03-05 00:00:00  |07114               |0.0                   |0.0                   |\n",
      "|2024-03-05 00:01:00  |07114               |0.0                   |0.0                   |\n",
      "|2024-03-05 00:02:00  |07114               |0.0                   |0.0                   |\n",
      "|2024-03-05 00:03:00  |07114               |0.0                   |0.0                   |\n",
      "|2024-03-05 00:04:00  |07114               |0.0                   |0.0                   |\n",
      "|2024-03-05 00:05:00  |07114               |0.0                   |0.0                   |\n",
      "|2024-03-05 00:06:00  |07114               |0.0                   |0.0                   |\n",
      "|2024-03-05 00:07:00  |07114               |0.0                   |0.0                   |\n",
      "|2024-03-05 00:08:00  |07114               |0.0                   |0.0                   |\n",
      "|2024-03-05 00:09:00  |07114               |0.0                   |0.0                   |\n",
      "------------------------------------------------------------------------------------------\n",
      "\n"
     ]
    }
   ],
   "source": [
    "transformed_df.show()"
   ]
  },
  {
   "cell_type": "code",
   "execution_count": 6,
   "id": "1441aaa2-86b6-434b-850f-4fdfed2a4a90",
   "metadata": {
    "name": "cell10",
    "language": "python",
    "codeCollapsed": false
   },
   "outputs": [
    {
     "name": "stderr",
     "output_type": "stream",
     "text": [
      "WARNING:snowflake.snowpark:FeatureStore.register_entity() is in private preview since 1.0.8. Do not use it in production. \n",
      "WARNING:snowflake.snowpark:FeatureStore.list_entities() is in private preview since 1.0.8. Do not use it in production. \n"
     ]
    },
    {
     "name": "stdout",
     "output_type": "stream",
     "text": [
      "--------------------------------------------------------------\n",
      "|\"NAME\"            |\"JOIN_KEYS\"           |\"DESC\"  |\"OWNER\"  |\n",
      "--------------------------------------------------------------\n",
      "|AIRPORT_ZIP_CODE  |[\"AIRPORT_ZIP_CODE\"]  |        |MILES    |\n",
      "--------------------------------------------------------------\n",
      "\n"
     ]
    }
   ],
   "source": "airport_entity = Entity(name=\"AIRPORT_ZIP_CODE\", join_keys=[\"AIRPORT_ZIP_CODE\"])\n#fs.register_entity(airport_entity)\nfs.list_entities().show()"
  },
  {
   "cell_type": "code",
   "execution_count": 7,
   "id": "589a8733-48df-4861-b7eb-177128f3e96b",
   "metadata": {
    "name": "cell11",
    "language": "python",
    "codeCollapsed": false
   },
   "outputs": [],
   "source": [
    "fv = FeatureView(\n",
    "    name=\"WEATHER_FEATURES\",\n",
    "    entities = [airport_entity],\n",
    "    feature_df=transformed_df,\n",
    "    timestamp_col = 'DATETIME_UTC',\n",
    "    refresh_freq=\"1 minutes\"\n",
    ")"
   ]
  },
  {
   "cell_type": "code",
   "execution_count": 8,
   "id": "10848d51-a20a-4720-b02a-c97352900c87",
   "metadata": {
    "name": "cell12",
    "language": "python",
    "codeCollapsed": false
   },
   "outputs": [
    {
     "name": "stderr",
     "output_type": "stream",
     "text": [
      "WARNING:snowflake.snowpark:FeatureStore.register_feature_view() is in private preview since 1.0.8. Do not use it in production. \n",
      "WARNING:snowflake.snowpark:FeatureStore.get_feature_view() is in private preview since 1.0.8. Do not use it in production. \n"
     ]
    }
   ],
   "source": [
    "registered_fv = fs.register_feature_view(\n",
    "    feature_view=fv,\n",
    "    version=\"V1\"\n",
    ")"
   ]
  },
  {
   "cell_type": "markdown",
   "id": "8ba739c7-72a3-46de-8993-d1c53ae91beb",
   "metadata": {
    "name": "cell14",
    "collapsed": false
   },
   "source": [
    "## Feature View Computation & Registration: Plane Attributes"
   ]
  },
  {
   "cell_type": "code",
   "execution_count": 9,
   "id": "ecbc0505-d0b7-461c-970e-b344901fb105",
   "metadata": {
    "name": "cell15",
    "language": "python",
    "codeCollapsed": false
   },
   "outputs": [
    {
     "data": {
      "text/html": [
       "<div>\n",
       "<style scoped>\n",
       "    .dataframe tbody tr th:only-of-type {\n",
       "        vertical-align: middle;\n",
       "    }\n",
       "\n",
       "    .dataframe tbody tr th {\n",
       "        vertical-align: top;\n",
       "    }\n",
       "\n",
       "    .dataframe thead th {\n",
       "        text-align: right;\n",
       "    }\n",
       "</style>\n",
       "<table border=\"1\" class=\"dataframe\">\n",
       "  <thead>\n",
       "    <tr style=\"text-align: right;\">\n",
       "      <th></th>\n",
       "      <th>PLANE_MODEL</th>\n",
       "      <th>SEATING_CAPACITY</th>\n",
       "    </tr>\n",
       "  </thead>\n",
       "  <tbody>\n",
       "    <tr>\n",
       "      <th>0</th>\n",
       "      <td>Boeing 737</td>\n",
       "      <td>150</td>\n",
       "    </tr>\n",
       "    <tr>\n",
       "      <th>1</th>\n",
       "      <td>Boeing 737 MAX</td>\n",
       "      <td>180</td>\n",
       "    </tr>\n",
       "    <tr>\n",
       "      <th>2</th>\n",
       "      <td>Boeing 747</td>\n",
       "      <td>400</td>\n",
       "    </tr>\n",
       "    <tr>\n",
       "      <th>3</th>\n",
       "      <td>Boeing 767</td>\n",
       "      <td>290</td>\n",
       "    </tr>\n",
       "    <tr>\n",
       "      <th>4</th>\n",
       "      <td>Boeing 777</td>\n",
       "      <td>368</td>\n",
       "    </tr>\n",
       "    <tr>\n",
       "      <th>5</th>\n",
       "      <td>Boeing 787 Dreamliner</td>\n",
       "      <td>335</td>\n",
       "    </tr>\n",
       "    <tr>\n",
       "      <th>6</th>\n",
       "      <td>Airbus A320</td>\n",
       "      <td>150</td>\n",
       "    </tr>\n",
       "    <tr>\n",
       "      <th>7</th>\n",
       "      <td>Airbus A320neo</td>\n",
       "      <td>165</td>\n",
       "    </tr>\n",
       "    <tr>\n",
       "      <th>8</th>\n",
       "      <td>Airbus A330</td>\n",
       "      <td>277</td>\n",
       "    </tr>\n",
       "    <tr>\n",
       "      <th>9</th>\n",
       "      <td>Airbus A340</td>\n",
       "      <td>375</td>\n",
       "    </tr>\n",
       "    <tr>\n",
       "      <th>10</th>\n",
       "      <td>Airbus A350</td>\n",
       "      <td>325</td>\n",
       "    </tr>\n",
       "    <tr>\n",
       "      <th>11</th>\n",
       "      <td>Airbus A380</td>\n",
       "      <td>555</td>\n",
       "    </tr>\n",
       "  </tbody>\n",
       "</table>\n",
       "</div>"
      ],
      "text/plain": [
       "              PLANE_MODEL  SEATING_CAPACITY\n",
       "0              Boeing 737               150\n",
       "1          Boeing 737 MAX               180\n",
       "2              Boeing 747               400\n",
       "3              Boeing 767               290\n",
       "4              Boeing 777               368\n",
       "5   Boeing 787 Dreamliner               335\n",
       "6             Airbus A320               150\n",
       "7          Airbus A320neo               165\n",
       "8             Airbus A330               277\n",
       "9             Airbus A340               375\n",
       "10            Airbus A350               325\n",
       "11            Airbus A380               555"
      ]
     },
     "execution_count": 9,
     "metadata": {},
     "output_type": "execute_result"
    }
   ],
   "source": "plane_df = session.table('AIRLINE_FEATURE_STORE.FEATURE_STORE.PLANE_MODEL_ATTRIBUTES').select(col('PLANE_MODEL'), col('SEATING_CAPACITY'))\nplane_df.to_pandas()"
  },
  {
   "cell_type": "code",
   "execution_count": 10,
   "id": "7a7eccfb-1ff7-4b8a-b034-2f443c41ef5b",
   "metadata": {
    "name": "cell16",
    "language": "python",
    "codeCollapsed": false
   },
   "outputs": [
    {
     "name": "stdout",
     "output_type": "stream",
     "text": [
      "--------------------------------------------------------------\n",
      "|\"NAME\"            |\"JOIN_KEYS\"           |\"DESC\"  |\"OWNER\"  |\n",
      "--------------------------------------------------------------\n",
      "|AIRPORT_ZIP_CODE  |[\"AIRPORT_ZIP_CODE\"]  |        |MILES    |\n",
      "|PLANE_MODEL       |[\"PLANE_MODEL\"]       |        |MILES    |\n",
      "--------------------------------------------------------------\n",
      "\n"
     ]
    }
   ],
   "source": [
    "plane_entity = Entity(name=\"PLANE_MODEL\", join_keys=[\"PLANE_MODEL\"])\n",
    "fs.register_entity(plane_entity)\n",
    "fs.list_entities().show()"
   ]
  },
  {
   "cell_type": "code",
   "execution_count": 11,
   "id": "4b6a9a74-e6cd-4429-b010-51bf1d1184a8",
   "metadata": {
    "name": "cell17",
    "language": "python",
    "codeCollapsed": false
   },
   "outputs": [],
   "source": "fv = FeatureView(\n    name=\"PLANE_FEATURES\",\n    entities = [plane_entity],\n    feature_df=plane_df,\n    #no refresh--views\n)\n\nregistered_fv = fs.register_feature_view(\n    feature_view=fv,\n    version=\"V1\"\n)"
  },
  {
   "cell_type": "code",
   "id": "eed2f4ae-040b-4332-aa65-0fd112b27b8c",
   "metadata": {
    "language": "python",
    "name": "cell2",
    "codeCollapsed": false
   },
   "outputs": [],
   "source": "",
   "execution_count": null
  }
 ]
}