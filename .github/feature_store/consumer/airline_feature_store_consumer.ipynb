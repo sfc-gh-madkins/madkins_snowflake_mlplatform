{
 "metadata": {
  "kernelspec": {
   "display_name": "Python 3 (ipykernel)",
   "language": "python",
   "name": "python3"
  },
  "language_info": {
   "codemirror_mode": {
    "name": "ipython",
    "version": 3
   },
   "file_extension": ".py",
   "mimetype": "text/x-python",
   "name": "python",
   "nbconvert_exporter": "python",
   "pygments_lexer": "ipython3",
   "version": "3.11.7"
  }
 },
 "nbformat_minor": 5,
 "nbformat": 4,
 "cells": [
  {
   "cell_type": "code",
   "id": "d4e5b647-a9cb-4ca4-869f-658d344f9560",
   "metadata": {
    "language": "python",
    "name": "cell23"
   },
   "outputs": [],
   "source": "!pip install -q snowflake-ml-python==1.5.0",
   "execution_count": null
  },
  {
   "cell_type": "code",
   "execution_count": 26,
   "id": "0e1ef2c7-749c-4d6c-9285-749a295a7cc2",
   "metadata": {
    "name": "cell1",
    "language": "python",
    "codeCollapsed": false
   },
   "outputs": [
    {
     "data": {
      "text/plain": [
       "[Row(status='Statement executed successfully.')]"
      ]
     },
     "execution_count": 26,
     "metadata": {},
     "output_type": "execute_result"
    }
   ],
   "source": "from snowflake.ml.feature_store import FeatureStore, CreationMode\nfrom snowflake.snowpark.context import get_active_session\nfrom snowflake.ml.registry import Registry\nfrom snowflake.snowpark.functions import *\n\nsession = get_active_session()\n\nfs = FeatureStore(\n    session=session, \n    database=\"AIRLINE_FEATURE_STORE\",\n    name=\"FEATURE_STORE\",\n    default_warehouse=session.get_current_warehouse(),\n    creation_mode=CreationMode.CREATE_IF_NOT_EXIST,\n)\n\n\nmr = Registry(\n    session=session,\n    database_name=\"AIRLINE_FEATURE_STORE\",\n    schema_name=\"FEATURE_STORE\",\n)"
  },
  {
   "cell_type": "markdown",
   "id": "5578f302-af9d-4cab-b69b-5dc9a32fe3d1",
   "metadata": {
    "name": "cell4",
    "collapsed": false
   },
   "source": [
    "## Determine Use Case / Label"
   ]
  },
  {
   "cell_type": "code",
   "execution_count": 3,
   "id": "71586356-b0a8-4593-aefc-8fb1002e2e2d",
   "metadata": {
    "name": "cell5",
    "language": "python",
    "codeCollapsed": false
   },
   "outputs": [
    {
     "data": {
      "text/html": [
       "<div>\n",
       "<style scoped>\n",
       "    .dataframe tbody tr th:only-of-type {\n",
       "        vertical-align: middle;\n",
       "    }\n",
       "\n",
       "    .dataframe tbody tr th {\n",
       "        vertical-align: top;\n",
       "    }\n",
       "\n",
       "    .dataframe thead th {\n",
       "        text-align: right;\n",
       "    }\n",
       "</style>\n",
       "<table border=\"1\" class=\"dataframe\">\n",
       "  <thead>\n",
       "    <tr style=\"text-align: right;\">\n",
       "      <th></th>\n",
       "      <th>SCHEDULED_DEPARTURE_UTC</th>\n",
       "      <th>AIRPORT_NAME</th>\n",
       "      <th>AIRPORT_ZIP_CODE</th>\n",
       "      <th>DEPARTURE_CODE</th>\n",
       "      <th>DOMESTIC_CODE</th>\n",
       "      <th>TICKETS_SOLD</th>\n",
       "      <th>TAIL_NUMBER</th>\n",
       "      <th>PLANE_MODEL</th>\n",
       "      <th>DESTINATION_CODE</th>\n",
       "      <th>DEPARTING_DELAY</th>\n",
       "    </tr>\n",
       "  </thead>\n",
       "  <tbody>\n",
       "    <tr>\n",
       "      <th>0</th>\n",
       "      <td>2024-03-05 05:51:00</td>\n",
       "      <td>Logan International Airport</td>\n",
       "      <td>02128</td>\n",
       "      <td>BOS</td>\n",
       "      <td>DLTA</td>\n",
       "      <td>295</td>\n",
       "      <td>#D836HHA</td>\n",
       "      <td>Boeing 787 Dreamliner</td>\n",
       "      <td>ATL</td>\n",
       "      <td>1</td>\n",
       "    </tr>\n",
       "    <tr>\n",
       "      <th>1</th>\n",
       "      <td>2024-03-05 05:53:00</td>\n",
       "      <td>Orlando International Airport</td>\n",
       "      <td>32827</td>\n",
       "      <td>MCO</td>\n",
       "      <td>DLTA</td>\n",
       "      <td>317</td>\n",
       "      <td>#S079NEE</td>\n",
       "      <td>Boeing 777</td>\n",
       "      <td>SEA</td>\n",
       "      <td>0</td>\n",
       "    </tr>\n",
       "    <tr>\n",
       "      <th>2</th>\n",
       "      <td>2024-03-05 05:55:00</td>\n",
       "      <td>Miami International Airport</td>\n",
       "      <td>33126</td>\n",
       "      <td>MIA</td>\n",
       "      <td>AA</td>\n",
       "      <td>492</td>\n",
       "      <td>#H580ILA</td>\n",
       "      <td>Airbus A380</td>\n",
       "      <td>MCO</td>\n",
       "      <td>0</td>\n",
       "    </tr>\n",
       "    <tr>\n",
       "      <th>3</th>\n",
       "      <td>2024-03-05 05:57:00</td>\n",
       "      <td>John F. Kennedy International Airport</td>\n",
       "      <td>11430</td>\n",
       "      <td>JFK</td>\n",
       "      <td>UA</td>\n",
       "      <td>222</td>\n",
       "      <td>#R737ISD</td>\n",
       "      <td>Airbus A330</td>\n",
       "      <td>DFW</td>\n",
       "      <td>0</td>\n",
       "    </tr>\n",
       "    <tr>\n",
       "      <th>4</th>\n",
       "      <td>2024-03-05 05:58:00</td>\n",
       "      <td>Fort Lauderdale–Hollywood International Airport</td>\n",
       "      <td>33315</td>\n",
       "      <td>FLL</td>\n",
       "      <td>UA</td>\n",
       "      <td>349</td>\n",
       "      <td>#X193UNL</td>\n",
       "      <td>Boeing 747</td>\n",
       "      <td>EWR</td>\n",
       "      <td>0</td>\n",
       "    </tr>\n",
       "  </tbody>\n",
       "</table>\n",
       "</div>"
      ],
      "text/plain": [
       "  SCHEDULED_DEPARTURE_UTC                                     AIRPORT_NAME  \\\n",
       "0     2024-03-05 05:51:00                      Logan International Airport   \n",
       "1     2024-03-05 05:53:00                    Orlando International Airport   \n",
       "2     2024-03-05 05:55:00                      Miami International Airport   \n",
       "3     2024-03-05 05:57:00            John F. Kennedy International Airport   \n",
       "4     2024-03-05 05:58:00  Fort Lauderdale–Hollywood International Airport   \n",
       "\n",
       "  AIRPORT_ZIP_CODE DEPARTURE_CODE DOMESTIC_CODE  TICKETS_SOLD TAIL_NUMBER  \\\n",
       "0            02128            BOS          DLTA           295    #D836HHA   \n",
       "1            32827            MCO          DLTA           317    #S079NEE   \n",
       "2            33126            MIA            AA           492    #H580ILA   \n",
       "3            11430            JFK            UA           222    #R737ISD   \n",
       "4            33315            FLL            UA           349    #X193UNL   \n",
       "\n",
       "             PLANE_MODEL DESTINATION_CODE  DEPARTING_DELAY  \n",
       "0  Boeing 787 Dreamliner              ATL                1  \n",
       "1             Boeing 777              SEA                0  \n",
       "2            Airbus A380              MCO                0  \n",
       "3            Airbus A330              DFW                0  \n",
       "4             Boeing 747              EWR                0  "
      ]
     },
     "execution_count": 3,
     "metadata": {},
     "output_type": "execute_result"
    }
   ],
   "source": [
    "spine_df = session.table('AIRLINE_FEATURE_STORE.FEATURE_STORE.US_FLIGHT_SCHEDULES')\n",
    "spine_df.to_pandas().head()"
   ]
  },
  {
   "cell_type": "code",
   "id": "da6783c5-7493-46e0-8075-aecee2808357",
   "metadata": {
    "language": "python",
    "name": "cell14",
    "codeCollapsed": false
   },
   "outputs": [],
   "source": "spine_df = session.sql('''\nSELECT\n    SCHEDULED_DEPARTURE_UTC,\n    AIRPORT_ZIP_CODE,\n    PLANE_MODEL,\n    TICKETS_SOLD,\n    DEPARTING_DELAY\nFROM\n    AIRLINE_FEATURE_STORE.FEATURE_STORE.US_FLIGHT_SCHEDULES\n''')\nspine_df.to_pandas().head()",
   "execution_count": null
  },
  {
   "cell_type": "markdown",
   "id": "9389216a-19dd-4fdd-a611-6182b23f3477",
   "metadata": {
    "name": "cell7",
    "collapsed": false
   },
   "source": [
    "## Explore Feature Views"
   ]
  },
  {
   "cell_type": "code",
   "execution_count": 4,
   "id": "22c9913b-c70a-4ab7-897d-1e94d577b92b",
   "metadata": {
    "name": "cell8",
    "language": "python",
    "codeCollapsed": false
   },
   "outputs": [
    {
     "name": "stderr",
     "output_type": "stream",
     "text": [
      "WARNING:snowflake.snowpark:FeatureStore.list_entities() is in private preview since 1.0.8. Do not use it in production. \n"
     ]
    },
    {
     "data": {
      "text/html": [
       "<div>\n",
       "<style scoped>\n",
       "    .dataframe tbody tr th:only-of-type {\n",
       "        vertical-align: middle;\n",
       "    }\n",
       "\n",
       "    .dataframe tbody tr th {\n",
       "        vertical-align: top;\n",
       "    }\n",
       "\n",
       "    .dataframe thead th {\n",
       "        text-align: right;\n",
       "    }\n",
       "</style>\n",
       "<table border=\"1\" class=\"dataframe\">\n",
       "  <thead>\n",
       "    <tr style=\"text-align: right;\">\n",
       "      <th></th>\n",
       "      <th>NAME</th>\n",
       "      <th>JOIN_KEYS</th>\n",
       "      <th>DESC</th>\n",
       "      <th>OWNER</th>\n",
       "    </tr>\n",
       "  </thead>\n",
       "  <tbody>\n",
       "    <tr>\n",
       "      <th>0</th>\n",
       "      <td>AIRPORT_ZIP_CODE</td>\n",
       "      <td>[\"AIRPORT_ZIP_CODE\"]</td>\n",
       "      <td></td>\n",
       "      <td>MILES</td>\n",
       "    </tr>\n",
       "    <tr>\n",
       "      <th>1</th>\n",
       "      <td>PLANE_MODEL</td>\n",
       "      <td>[\"PLANE_MODEL\"]</td>\n",
       "      <td></td>\n",
       "      <td>MILES</td>\n",
       "    </tr>\n",
       "  </tbody>\n",
       "</table>\n",
       "</div>"
      ],
      "text/plain": [
       "               NAME             JOIN_KEYS DESC  OWNER\n",
       "0  AIRPORT_ZIP_CODE  [\"AIRPORT_ZIP_CODE\"]       MILES\n",
       "1       PLANE_MODEL       [\"PLANE_MODEL\"]       MILES"
      ]
     },
     "execution_count": 4,
     "metadata": {},
     "output_type": "execute_result"
    }
   ],
   "source": [
    "fs.list_entities().to_pandas()"
   ]
  },
  {
   "cell_type": "code",
   "execution_count": 5,
   "id": "37d0a5f5-edad-49f6-80a6-af822ace9ccf",
   "metadata": {
    "name": "cell9",
    "language": "python",
    "codeCollapsed": false
   },
   "outputs": [
    {
     "name": "stderr",
     "output_type": "stream",
     "text": [
      "WARNING:snowflake.snowpark:FeatureStore.list_feature_views() is in private preview since 1.0.8. Do not use it in production. \n"
     ]
    },
    {
     "data": {
      "text/html": [
       "<div>\n",
       "<style scoped>\n",
       "    .dataframe tbody tr th:only-of-type {\n",
       "        vertical-align: middle;\n",
       "    }\n",
       "\n",
       "    .dataframe tbody tr th {\n",
       "        vertical-align: top;\n",
       "    }\n",
       "\n",
       "    .dataframe thead th {\n",
       "        text-align: right;\n",
       "    }\n",
       "</style>\n",
       "<table border=\"1\" class=\"dataframe\">\n",
       "  <thead>\n",
       "    <tr style=\"text-align: right;\">\n",
       "      <th></th>\n",
       "      <th>NAME</th>\n",
       "      <th>ENTITIES</th>\n",
       "      <th>TIMESTAMP_COL</th>\n",
       "      <th>DESC</th>\n",
       "      <th>QUERY</th>\n",
       "      <th>VERSION</th>\n",
       "      <th>STATUS</th>\n",
       "      <th>FEATURE_DESC</th>\n",
       "      <th>REFRESH_FREQ</th>\n",
       "      <th>DATABASE</th>\n",
       "      <th>SCHEMA</th>\n",
       "      <th>WAREHOUSE</th>\n",
       "      <th>REFRESH_MODE</th>\n",
       "      <th>REFRESH_MODE_REASON</th>\n",
       "      <th>OWNER</th>\n",
       "      <th>PHYSICAL_NAME</th>\n",
       "    </tr>\n",
       "  </thead>\n",
       "  <tbody>\n",
       "    <tr>\n",
       "      <th>0</th>\n",
       "      <td>WEATHER_FEATURES</td>\n",
       "      <td>[\\n  {\\n    \"desc\": \"\",\\n    \"join_keys\": [\\n ...</td>\n",
       "      <td>DATETIME_UTC</td>\n",
       "      <td></td>\n",
       "      <td>SELECT \"DATETIME_UTC\", \"AIRPORT_ZIP_CODE\", avg...</td>\n",
       "      <td>V1</td>\n",
       "      <td>FeatureViewStatus.ACTIVE</td>\n",
       "      <td>{\\n  \"AVG30MIN_RAIN_MM_H\": \"\",\\n  \"AVG60MIN_RA...</td>\n",
       "      <td>1 minute</td>\n",
       "      <td>AIRLINE_FEATURE_STORE</td>\n",
       "      <td>FEATURE_STORE</td>\n",
       "      <td>MILES_WH</td>\n",
       "      <td>INCREMENTAL</td>\n",
       "      <td>None</td>\n",
       "      <td>MILES</td>\n",
       "      <td>WEATHER_FEATURES$V1</td>\n",
       "    </tr>\n",
       "  </tbody>\n",
       "</table>\n",
       "</div>"
      ],
      "text/plain": [
       "               NAME                                           ENTITIES  \\\n",
       "0  WEATHER_FEATURES  [\\n  {\\n    \"desc\": \"\",\\n    \"join_keys\": [\\n ...   \n",
       "\n",
       "  TIMESTAMP_COL DESC                                              QUERY  \\\n",
       "0  DATETIME_UTC       SELECT \"DATETIME_UTC\", \"AIRPORT_ZIP_CODE\", avg...   \n",
       "\n",
       "  VERSION                    STATUS  \\\n",
       "0      V1  FeatureViewStatus.ACTIVE   \n",
       "\n",
       "                                        FEATURE_DESC REFRESH_FREQ  \\\n",
       "0  {\\n  \"AVG30MIN_RAIN_MM_H\": \"\",\\n  \"AVG60MIN_RA...     1 minute   \n",
       "\n",
       "                DATABASE         SCHEMA WAREHOUSE REFRESH_MODE  \\\n",
       "0  AIRLINE_FEATURE_STORE  FEATURE_STORE  MILES_WH  INCREMENTAL   \n",
       "\n",
       "  REFRESH_MODE_REASON  OWNER        PHYSICAL_NAME  \n",
       "0                None  MILES  WEATHER_FEATURES$V1  "
      ]
     },
     "execution_count": 5,
     "metadata": {},
     "output_type": "execute_result"
    }
   ],
   "source": [
    "fs.list_feature_views(entity_name=\"AIRPORT_ZIP_CODE\").to_pandas()"
   ]
  },
  {
   "cell_type": "code",
   "execution_count": 6,
   "id": "4cd42f56-faf0-4623-b30f-e0852e922946",
   "metadata": {
    "name": "cell10",
    "language": "python",
    "codeCollapsed": false
   },
   "outputs": [
    {
     "data": {
      "text/html": [
       "<div>\n",
       "<style scoped>\n",
       "    .dataframe tbody tr th:only-of-type {\n",
       "        vertical-align: middle;\n",
       "    }\n",
       "\n",
       "    .dataframe tbody tr th {\n",
       "        vertical-align: top;\n",
       "    }\n",
       "\n",
       "    .dataframe thead th {\n",
       "        text-align: right;\n",
       "    }\n",
       "</style>\n",
       "<table border=\"1\" class=\"dataframe\">\n",
       "  <thead>\n",
       "    <tr style=\"text-align: right;\">\n",
       "      <th></th>\n",
       "      <th>NAME</th>\n",
       "      <th>ENTITIES</th>\n",
       "      <th>TIMESTAMP_COL</th>\n",
       "      <th>DESC</th>\n",
       "      <th>QUERY</th>\n",
       "      <th>VERSION</th>\n",
       "      <th>STATUS</th>\n",
       "      <th>FEATURE_DESC</th>\n",
       "      <th>REFRESH_FREQ</th>\n",
       "      <th>DATABASE</th>\n",
       "      <th>SCHEMA</th>\n",
       "      <th>WAREHOUSE</th>\n",
       "      <th>REFRESH_MODE</th>\n",
       "      <th>REFRESH_MODE_REASON</th>\n",
       "      <th>OWNER</th>\n",
       "      <th>PHYSICAL_NAME</th>\n",
       "    </tr>\n",
       "  </thead>\n",
       "  <tbody>\n",
       "    <tr>\n",
       "      <th>0</th>\n",
       "      <td>PLANE_FEATURES</td>\n",
       "      <td>[\\n  {\\n    \"desc\": \"\",\\n    \"join_keys\": [\\n ...</td>\n",
       "      <td>None</td>\n",
       "      <td></td>\n",
       "      <td>SELECT \"PLANE_MODEL\", \"SEATING_CAPACITY\" FROM ...</td>\n",
       "      <td>V1</td>\n",
       "      <td>FeatureViewStatus.STATIC</td>\n",
       "      <td>{\\n  \"SEATING_CAPACITY\": \"\"\\n}</td>\n",
       "      <td>None</td>\n",
       "      <td>AIRLINE_FEATURE_STORE</td>\n",
       "      <td>FEATURE_STORE</td>\n",
       "      <td>None</td>\n",
       "      <td>None</td>\n",
       "      <td>None</td>\n",
       "      <td>MILES</td>\n",
       "      <td>PLANE_FEATURES$V1</td>\n",
       "    </tr>\n",
       "  </tbody>\n",
       "</table>\n",
       "</div>"
      ],
      "text/plain": [
       "             NAME                                           ENTITIES  \\\n",
       "0  PLANE_FEATURES  [\\n  {\\n    \"desc\": \"\",\\n    \"join_keys\": [\\n ...   \n",
       "\n",
       "  TIMESTAMP_COL DESC                                              QUERY  \\\n",
       "0          None       SELECT \"PLANE_MODEL\", \"SEATING_CAPACITY\" FROM ...   \n",
       "\n",
       "  VERSION                    STATUS                    FEATURE_DESC  \\\n",
       "0      V1  FeatureViewStatus.STATIC  {\\n  \"SEATING_CAPACITY\": \"\"\\n}   \n",
       "\n",
       "  REFRESH_FREQ               DATABASE         SCHEMA WAREHOUSE REFRESH_MODE  \\\n",
       "0         None  AIRLINE_FEATURE_STORE  FEATURE_STORE      None         None   \n",
       "\n",
       "  REFRESH_MODE_REASON  OWNER      PHYSICAL_NAME  \n",
       "0                None  MILES  PLANE_FEATURES$V1  "
      ]
     },
     "execution_count": 6,
     "metadata": {},
     "output_type": "execute_result"
    }
   ],
   "source": [
    "fs.list_feature_views(entity_name=\"PLANE_MODEL\").to_pandas()"
   ]
  },
  {
   "cell_type": "code",
   "execution_count": 7,
   "id": "d3371cc4-0986-4ff6-a675-697c18c44f7c",
   "metadata": {
    "name": "cell11",
    "language": "python",
    "codeCollapsed": false
   },
   "outputs": [
    {
     "name": "stderr",
     "output_type": "stream",
     "text": [
      "WARNING:snowflake.snowpark:FeatureStore.get_feature_view() is in private preview since 1.0.8. Do not use it in production. \n"
     ]
    }
   ],
   "source": "weather_fv = FeatureView = fs.get_feature_view(\n    name='WEATHER_FEATURES',\n    version='V1'\n)\n\nplane_fv = FeatureView = fs.get_feature_view(\n    name='PLANE_FEATURES',\n    version='V1'\n)"
  },
  {
   "cell_type": "markdown",
   "id": "efa1904a-67d3-4438-b647-a675e648bd94",
   "metadata": {
    "name": "cell12",
    "collapsed": false
   },
   "source": [
    "## Generate Training Dataset"
   ]
  },
  {
   "cell_type": "code",
   "execution_count": 28,
   "id": "38dc078e-f81a-45b1-a3c5-58acb0339b1d",
   "metadata": {
    "scrolled": true,
    "name": "cell13",
    "language": "python",
    "codeCollapsed": false
   },
   "outputs": [
    {
     "data": {
      "text/plain": [
       "<snowflake.ml.dataset.dataset.Dataset at 0x297187410>"
      ]
     },
     "execution_count": 28,
     "metadata": {},
     "output_type": "execute_result"
    }
   ],
   "source": "training_data = fs.generate_dataset(\n    name='US_FLIGHT_DELAYS_CLASSIFICATION',\n    version='V8',\n    spine_df=spine_df,\n    features=[weather_fv, plane_fv],\n    spine_timestamp_col=\"SCHEDULED_DEPARTURE_UTC\",\n    spine_label_cols = [\"DEPARTING_DELAY\"],\n)"
  },
  {
   "cell_type": "code",
   "id": "8529684a-645d-4f15-b91a-236118589097",
   "metadata": {
    "language": "sql",
    "name": "cell2"
   },
   "outputs": [],
   "source": "SHOW DATASETS IN SCHEMA AIRLINE_FEATURE_STORE.FEATURE_STORE",
   "execution_count": null
  },
  {
   "cell_type": "code",
   "id": "d8f89b8d-9b1d-4706-8aec-ef6245505458",
   "metadata": {
    "language": "python",
    "name": "cell21",
    "codeCollapsed": false
   },
   "outputs": [],
   "source": "training_data_pd = training_data.read.to_pandas()\ntraining_data_pd.head(5)",
   "execution_count": null
  },
  {
   "cell_type": "markdown",
   "id": "d917e83e-13d3-4edd-ba64-db657ba3fc3e",
   "metadata": {
    "name": "cell15",
    "collapsed": false
   },
   "source": [
    "## Train & Register Model"
   ]
  },
  {
   "cell_type": "code",
   "execution_count": 30,
   "id": "41476dab-5564-45ed-b677-13d8ad739a28",
   "metadata": {
    "name": "cell16",
    "language": "python",
    "codeCollapsed": false
   },
   "outputs": [
    {
     "data": {
      "text/html": [
       "<div>\n",
       "<style scoped>\n",
       "    .dataframe tbody tr th:only-of-type {\n",
       "        vertical-align: middle;\n",
       "    }\n",
       "\n",
       "    .dataframe tbody tr th {\n",
       "        vertical-align: top;\n",
       "    }\n",
       "\n",
       "    .dataframe thead th {\n",
       "        text-align: right;\n",
       "    }\n",
       "</style>\n",
       "<table border=\"1\" class=\"dataframe\">\n",
       "  <thead>\n",
       "    <tr style=\"text-align: right;\">\n",
       "      <th></th>\n",
       "      <th>TICKETS_SOLD</th>\n",
       "      <th>AVG30MIN_RAIN_MM_H</th>\n",
       "      <th>AVG60MIN_RAIN_MM_H</th>\n",
       "      <th>SEATING_CAPACITY</th>\n",
       "    </tr>\n",
       "  </thead>\n",
       "  <tbody>\n",
       "    <tr>\n",
       "      <th>0</th>\n",
       "      <td>317</td>\n",
       "      <td>9.734949e-03</td>\n",
       "      <td>0.139940</td>\n",
       "      <td>368</td>\n",
       "    </tr>\n",
       "    <tr>\n",
       "      <th>1</th>\n",
       "      <td>222</td>\n",
       "      <td>2.786821e+00</td>\n",
       "      <td>1.944952</td>\n",
       "      <td>368</td>\n",
       "    </tr>\n",
       "    <tr>\n",
       "      <th>2</th>\n",
       "      <td>346</td>\n",
       "      <td>4.356897e-01</td>\n",
       "      <td>2.158125</td>\n",
       "      <td>368</td>\n",
       "    </tr>\n",
       "    <tr>\n",
       "      <th>3</th>\n",
       "      <td>278</td>\n",
       "      <td>-1.154632e-15</td>\n",
       "      <td>0.155997</td>\n",
       "      <td>335</td>\n",
       "    </tr>\n",
       "    <tr>\n",
       "      <th>4</th>\n",
       "      <td>302</td>\n",
       "      <td>2.246927e-01</td>\n",
       "      <td>0.112346</td>\n",
       "      <td>375</td>\n",
       "    </tr>\n",
       "  </tbody>\n",
       "</table>\n",
       "</div>"
      ],
      "text/plain": [
       "   TICKETS_SOLD  AVG30MIN_RAIN_MM_H  AVG60MIN_RAIN_MM_H  SEATING_CAPACITY\n",
       "0           317        9.734949e-03            0.139940               368\n",
       "1           222        2.786821e+00            1.944952               368\n",
       "2           346        4.356897e-01            2.158125               368\n",
       "3           278       -1.154632e-15            0.155997               335\n",
       "4           302        2.246927e-01            0.112346               375"
      ]
     },
     "execution_count": 30,
     "metadata": {},
     "output_type": "execute_result"
    }
   ],
   "source": "X_train = training_data_pd[['TICKETS_SOLD', 'AVG30MIN_RAIN_MM_H', 'AVG60MIN_RAIN_MM_H', 'SEATING_CAPACITY']]\nX_train.head()"
  },
  {
   "cell_type": "code",
   "execution_count": 31,
   "id": "357d9b22-3a00-47ae-a984-7c02b21b7d26",
   "metadata": {
    "name": "cell17",
    "language": "python",
    "codeCollapsed": false
   },
   "outputs": [
    {
     "data": {
      "text/html": [
       "<div>\n",
       "<style scoped>\n",
       "    .dataframe tbody tr th:only-of-type {\n",
       "        vertical-align: middle;\n",
       "    }\n",
       "\n",
       "    .dataframe tbody tr th {\n",
       "        vertical-align: top;\n",
       "    }\n",
       "\n",
       "    .dataframe thead th {\n",
       "        text-align: right;\n",
       "    }\n",
       "</style>\n",
       "<table border=\"1\" class=\"dataframe\">\n",
       "  <thead>\n",
       "    <tr style=\"text-align: right;\">\n",
       "      <th></th>\n",
       "      <th>DEPARTING_DELAY</th>\n",
       "    </tr>\n",
       "  </thead>\n",
       "  <tbody>\n",
       "    <tr>\n",
       "      <th>0</th>\n",
       "      <td>0</td>\n",
       "    </tr>\n",
       "    <tr>\n",
       "      <th>1</th>\n",
       "      <td>0</td>\n",
       "    </tr>\n",
       "    <tr>\n",
       "      <th>2</th>\n",
       "      <td>1</td>\n",
       "    </tr>\n",
       "    <tr>\n",
       "      <th>3</th>\n",
       "      <td>0</td>\n",
       "    </tr>\n",
       "    <tr>\n",
       "      <th>4</th>\n",
       "      <td>0</td>\n",
       "    </tr>\n",
       "  </tbody>\n",
       "</table>\n",
       "</div>"
      ],
      "text/plain": [
       "   DEPARTING_DELAY\n",
       "0                0\n",
       "1                0\n",
       "2                1\n",
       "3                0\n",
       "4                0"
      ]
     },
     "execution_count": 31,
     "metadata": {},
     "output_type": "execute_result"
    }
   ],
   "source": "y_train = training_data_pd['DEPARTING_DELAY']\ny_train.head()"
  },
  {
   "cell_type": "code",
   "execution_count": 14,
   "id": "418f930f-8e84-4fe7-a63b-ecd3bd62735b",
   "metadata": {
    "name": "cell20",
    "language": "python",
    "codeCollapsed": false
   },
   "outputs": [
    {
     "data": {
      "text/html": [
       "<div>\n",
       "<style scoped>\n",
       "    .dataframe tbody tr th:only-of-type {\n",
       "        vertical-align: middle;\n",
       "    }\n",
       "\n",
       "    .dataframe tbody tr th {\n",
       "        vertical-align: top;\n",
       "    }\n",
       "\n",
       "    .dataframe thead th {\n",
       "        text-align: right;\n",
       "    }\n",
       "</style>\n",
       "<table border=\"1\" class=\"dataframe\">\n",
       "  <thead>\n",
       "    <tr style=\"text-align: right;\">\n",
       "      <th></th>\n",
       "      <th>TICKETS_SOLD</th>\n",
       "      <th>AVG30MIN_RAIN_MM_H</th>\n",
       "      <th>AVG60MIN_RAIN_MM_H</th>\n",
       "      <th>SEATING_CAPACITY</th>\n",
       "      <th>OUTPUT_DEPARTING_DELAY</th>\n",
       "    </tr>\n",
       "  </thead>\n",
       "  <tbody>\n",
       "    <tr>\n",
       "      <th>0</th>\n",
       "      <td>317</td>\n",
       "      <td>9.734949e-03</td>\n",
       "      <td>0.139940</td>\n",
       "      <td>368</td>\n",
       "      <td>0</td>\n",
       "    </tr>\n",
       "    <tr>\n",
       "      <th>1</th>\n",
       "      <td>222</td>\n",
       "      <td>2.786821e+00</td>\n",
       "      <td>1.944952</td>\n",
       "      <td>368</td>\n",
       "      <td>0</td>\n",
       "    </tr>\n",
       "    <tr>\n",
       "      <th>2</th>\n",
       "      <td>346</td>\n",
       "      <td>4.356897e-01</td>\n",
       "      <td>2.158125</td>\n",
       "      <td>368</td>\n",
       "      <td>1</td>\n",
       "    </tr>\n",
       "    <tr>\n",
       "      <th>3</th>\n",
       "      <td>278</td>\n",
       "      <td>-1.154632e-15</td>\n",
       "      <td>0.155997</td>\n",
       "      <td>335</td>\n",
       "      <td>0</td>\n",
       "    </tr>\n",
       "    <tr>\n",
       "      <th>4</th>\n",
       "      <td>302</td>\n",
       "      <td>2.246927e-01</td>\n",
       "      <td>0.112346</td>\n",
       "      <td>375</td>\n",
       "      <td>0</td>\n",
       "    </tr>\n",
       "    <tr>\n",
       "      <th>...</th>\n",
       "      <td>...</td>\n",
       "      <td>...</td>\n",
       "      <td>...</td>\n",
       "      <td>...</td>\n",
       "      <td>...</td>\n",
       "    </tr>\n",
       "    <tr>\n",
       "      <th>8635</th>\n",
       "      <td>180</td>\n",
       "      <td>1.676300e-01</td>\n",
       "      <td>0.083815</td>\n",
       "      <td>277</td>\n",
       "      <td>0</td>\n",
       "    </tr>\n",
       "    <tr>\n",
       "      <th>8636</th>\n",
       "      <td>123</td>\n",
       "      <td>4.681440e-15</td>\n",
       "      <td>0.060709</td>\n",
       "      <td>180</td>\n",
       "      <td>0</td>\n",
       "    </tr>\n",
       "    <tr>\n",
       "      <th>8637</th>\n",
       "      <td>196</td>\n",
       "      <td>3.844048e-01</td>\n",
       "      <td>0.192202</td>\n",
       "      <td>277</td>\n",
       "      <td>0</td>\n",
       "    </tr>\n",
       "    <tr>\n",
       "      <th>8638</th>\n",
       "      <td>241</td>\n",
       "      <td>1.955747e+00</td>\n",
       "      <td>2.044662</td>\n",
       "      <td>400</td>\n",
       "      <td>0</td>\n",
       "    </tr>\n",
       "    <tr>\n",
       "      <th>8639</th>\n",
       "      <td>268</td>\n",
       "      <td>1.583918e-15</td>\n",
       "      <td>0.118700</td>\n",
       "      <td>375</td>\n",
       "      <td>0</td>\n",
       "    </tr>\n",
       "  </tbody>\n",
       "</table>\n",
       "<p>8640 rows × 5 columns</p>\n",
       "</div>"
      ],
      "text/plain": [
       "      TICKETS_SOLD  AVG30MIN_RAIN_MM_H  AVG60MIN_RAIN_MM_H  SEATING_CAPACITY  \\\n",
       "0              317        9.734949e-03            0.139940               368   \n",
       "1              222        2.786821e+00            1.944952               368   \n",
       "2              346        4.356897e-01            2.158125               368   \n",
       "3              278       -1.154632e-15            0.155997               335   \n",
       "4              302        2.246927e-01            0.112346               375   \n",
       "...            ...                 ...                 ...               ...   \n",
       "8635           180        1.676300e-01            0.083815               277   \n",
       "8636           123        4.681440e-15            0.060709               180   \n",
       "8637           196        3.844048e-01            0.192202               277   \n",
       "8638           241        1.955747e+00            2.044662               400   \n",
       "8639           268        1.583918e-15            0.118700               375   \n",
       "\n",
       "      OUTPUT_DEPARTING_DELAY  \n",
       "0                          0  \n",
       "1                          0  \n",
       "2                          1  \n",
       "3                          0  \n",
       "4                          0  \n",
       "...                      ...  \n",
       "8635                       0  \n",
       "8636                       0  \n",
       "8637                       0  \n",
       "8638                       0  \n",
       "8639                       0  \n",
       "\n",
       "[8640 rows x 5 columns]"
      ]
     },
     "execution_count": 14,
     "metadata": {},
     "output_type": "execute_result"
    }
   ],
   "source": "import pandas as pd\n\n#from sklearn.linear_model import LogisticRegression\nfrom snowflake.ml.modeling.linear_model import LogisticRegression\n\nmodel = LogisticRegression(\n    input_cols = X_train.columns.to_list(),\n    label_cols = 'DEPARTING_DELAY'\n)\n\nmodel.fit(pd.concat([X_train, y_train], axis=1))\n\nmodel.predict_proba(X_train)"
  },
  {
   "cell_type": "code",
   "execution_count": 24,
   "id": "d1d385d9-1926-48cc-a368-afa69f958b3a",
   "metadata": {
    "name": "cell22",
    "language": "python",
    "codeCollapsed": false,
    "collapsed": true
   },
   "outputs": [
    {
     "name": "stderr",
     "output_type": "stream",
     "text": [
      "WARNING:snowflake.ml.model._deploy_client.snowservice.deploy:Skipped image build. Use prebuilt image: sfsenorthamerica-demo412.registry.snowflakecomputing.com/airline_feature_store/feature_store/snowml_repo/13b5377145310740fcdbc1005a2aa8852e6b2ab4:latest\n",
      "WARNING:snowflake.ml.model._deploy_client.utils.snowservice_client:Best-effort log streaming from SPCS will be enabled when python logging level is set to INFO.Alternatively, you can also query the logs by running the query 'CALL SYSTEM$GET_SERVICE_LOGS('AIRLINE_FEATURE_STORE.FEATURE_STORE.service_23ecd7aef74011eeb98ad293188c890f', '0', 'inference-server')'\n"
     ]
    },
    {
     "data": {
      "text/plain": [
       "{'name': 'AIRLINE_FEATURE_STORE.FEATURE_STORE.test',\n",
       " 'platform': <TargetPlatform.SNOWPARK_CONTAINER_SERVICES: 'SNOWPARK_CONTAINER_SERVICES'>,\n",
       " 'target_method': 'predict',\n",
       " 'signature': ModelSignature(\n",
       "                     inputs=[\n",
       "                         FeatureSpec(dtype=DataType.INT16, name='TICKETS_SOLD'),\n",
       " \t\tFeatureSpec(dtype=DataType.DOUBLE, name='AVG30MIN_RAIN_MM_H'),\n",
       " \t\tFeatureSpec(dtype=DataType.DOUBLE, name='AVG60MIN_RAIN_MM_H'),\n",
       " \t\tFeatureSpec(dtype=DataType.INT16, name='SEATING_CAPACITY')\n",
       "                     ],\n",
       "                     outputs=[\n",
       "                         FeatureSpec(dtype=DataType.INT16, name='TICKETS_SOLD'),\n",
       " \t\tFeatureSpec(dtype=DataType.DOUBLE, name='AVG30MIN_RAIN_MM_H'),\n",
       " \t\tFeatureSpec(dtype=DataType.DOUBLE, name='AVG60MIN_RAIN_MM_H'),\n",
       " \t\tFeatureSpec(dtype=DataType.INT16, name='SEATING_CAPACITY'),\n",
       " \t\tFeatureSpec(dtype=DataType.INT8, name='OUTPUT_DEPARTING_DELAY')\n",
       "                     ]\n",
       "                 ),\n",
       " 'options': {'compute_pool': 'SNOWFLAKE_MODEL_REGISTRY',\n",
       "  'num_workers': 1,\n",
       "  'min_instances': 1,\n",
       "  'max_instances': 1,\n",
       "  'external_access_integrations': ['OPEN_ACCESS_INTEGRATION'],\n",
       "  'prebuilt_snowflake_image': 'sfsenorthamerica-demo412.registry.snowflakecomputing.com/airline_feature_store/feature_store/snowml_repo/13b5377145310740fcdbc1005a2aa8852e6b2ab4:latest'},\n",
       " 'details': {'service_info': {'name': 'SERVICE_23ECD7AEF74011EEB98AD293188C890F',\n",
       "   'database_name': 'AIRLINE_FEATURE_STORE',\n",
       "   'schema_name': 'FEATURE_STORE',\n",
       "   'owner': 'MILES',\n",
       "   'compute_pool': 'SNOWFLAKE_MODEL_REGISTRY',\n",
       "   'spec': '---\\nspec:\\n  containers:\\n  - name: \"inference-server\"\\n    image: \"sfsenorthamerica-demo412.registry.snowflakecomputing.com/airline_feature_store/feature_store/snowml_repo/13b5377145310740fcdbc1005a2aa8852e6b2ab4:latest\"\\n    sha256: \"@sha256:ac061a8f3e12f9a4bac9ee8044b8e828d3ca6972c863e40db3da4a3a27fd96d2\"\\n    env:\\n      MODEL_ZIP_STAGE_PATH: \"/AIRLINE_FEATURE_STORE.FEATURE_STORE.SNOWML_MODEL_23ECD7AEF74011EEB98AD293188C890F/model.zip\"\\n      NUM_WORKERS: \"1\"\\n      SNOWML_USE_GPU: \"false\"\\n      TARGET_METHOD: \"predict\"\\n    readinessProbe:\\n      port: 5000\\n      path: \"/health\"\\n    volumeMounts:\\n    - name: \"vol1\"\\n      mountPath: \"/local/user/vol1\"\\n    - name: \"stage\"\\n      mountPath: \"AIRLINE_FEATURE_STORE.FEATURE_STORE.SNOWML_MODEL_23ECD7AEF74011EEB98AD293188C890F\"\\n  volumes:\\n  - name: \"vol1\"\\n    source: \"local\"\\n  - name: \"stage\"\\n    source: \"@AIRLINE_FEATURE_STORE.FEATURE_STORE.SNOWML_MODEL_23ECD7AEF74011EEB98AD293188C890F\"\\n    uid: 1000\\n    gid: 1000\\n  endpoints:\\n  - name: \"predict\"\\n    port: 5000\\n    public: false\\n',\n",
       "   'dns_name': 'service-23ecd7aef74011eeb98ad293188c890f.feature-store.airline-feature-store.snowflakecomputing.internal',\n",
       "   'min_instances': 1,\n",
       "   'max_instances': 1,\n",
       "   'auto_resume': 'true',\n",
       "   'external_access_integrations': '[\"OPEN_ACCESS_INTEGRATION\"]',\n",
       "   'created_on': datetime.datetime(2024, 4, 10, 6, 48, 21, 236000, tzinfo=<DstTzInfo 'America/Los_Angeles' PDT-1 day, 17:00:00 DST>),\n",
       "   'updated_on': datetime.datetime(2024, 4, 10, 6, 48, 23, 50000, tzinfo=<DstTzInfo 'America/Los_Angeles' PDT-1 day, 17:00:00 DST>),\n",
       "   'resumed_on': None,\n",
       "   'comment': None,\n",
       "   'owner_role_type': 'ROLE',\n",
       "   'query_warehouse': None,\n",
       "   'is_job': 'false'},\n",
       "  'service_function_sql': \"\\nCREATE OR REPLACE FUNCTION AIRLINE_FEATURE_STORE.FEATURE_STORE.test(input OBJECT)\\n    RETURNS OBJECT\\n    SERVICE=AIRLINE_FEATURE_STORE.FEATURE_STORE.service_23ecd7aef74011eeb98ad293188c890f\\n    ENDPOINT=predict\\n\\n    AS '/predict'\\n\"}}"
      ]
     },
     "execution_count": 24,
     "metadata": {},
     "output_type": "execute_result"
    }
   ],
   "source": "mv = mr.log_model(model,\n    model_name=\"WEATHER_DELAY_MODEL\",\n    version_name=\"V1\",\n    conda_dependencies=[\"snowflake-ml-python\"],\n    comment=\"My awesome ML model\",\n    metrics={\"score\": 96},\n    sample_input_data=X_train\n)"
  },
  {
   "cell_type": "markdown",
   "id": "963cf31e-69fb-4c9d-a85d-d1923ac54071",
   "metadata": {
    "name": "cell3",
    "collapsed": false
   },
   "source": "## Serve Features in Production"
  },
  {
   "cell_type": "code",
   "id": "f431bb84-f2b2-4568-9628-75f435e6afe5",
   "metadata": {
    "language": "python",
    "name": "cell6",
    "codeCollapsed": false
   },
   "outputs": [],
   "source": "entity_df = session.table('AIRLINE_FEATURE_STORE.FEATURE_STORE.US_FLIGHT_SCHEDULES') \\\n    .sort(col('SCHEDULED_DEPARTURE_UTC'), ascending=False) \\\n    .select('SCHEDULED_DEPARTURE_UTC', 'AIRPORT_ZIP_CODE', 'PLANE_MODEL', 'TICKETS_SOLD') \\\n    .limit(1)\nentity_df.to_pandas()",
   "execution_count": null
  },
  {
   "cell_type": "code",
   "id": "db6407be-9912-4624-bc98-f199147e1d5a",
   "metadata": {
    "language": "python",
    "name": "cell25",
    "codeCollapsed": false
   },
   "outputs": [],
   "source": "pred_df = fs.retrieve_feature_values(\n    spine_df=entity_df, \n    features=fs.load_feature_views_from_dataset(training_data), \n    spine_timestamp_col='SCHEDULED_DEPARTURE_UTC',\n    exclude_columns=['SCHEDULED_DEPARTURE_UTC', 'AIRPORT_ZIP_CODE', 'PLANE_MODEL']\n)\npred_df.to_pandas()",
   "execution_count": null
  },
  {
   "cell_type": "code",
   "id": "5c98b8c1-5be1-4ead-abe5-b531a12f3c81",
   "metadata": {
    "language": "python",
    "name": "cell24",
    "codeCollapsed": false
   },
   "outputs": [],
   "source": "result_df = mr.get_model(\"WEATHER_DELAY_MODEL\").version(\"V1\").run(pred_df, function_name='predict_proba')\nresult_df",
   "execution_count": null
  },
  {
   "cell_type": "code",
   "id": "88a01b14-fb29-484d-ade8-964c11ef4c07",
   "metadata": {
    "language": "python",
    "name": "cell19",
    "codeCollapsed": false
   },
   "outputs": [],
   "source": "",
   "execution_count": null
  }
 ]
}